{
 "cells": [
  {
   "cell_type": "code",
   "execution_count": 215,
   "metadata": {
    "collapsed": false
   },
   "outputs": [],
   "source": [
    "import pandas as pd\n",
    "import numpy as np\n",
    "import matplotlib.pyplot as plt\n",
    "from scipy import stats"
   ]
  },
  {
   "cell_type": "code",
   "execution_count": 37,
   "metadata": {
    "collapsed": true
   },
   "outputs": [],
   "source": [
    "# Show plots inline\n",
    "%matplotlib inline"
   ]
  },
  {
   "cell_type": "code",
   "execution_count": 269,
   "metadata": {
    "collapsed": false
   },
   "outputs": [
    {
     "name": "stderr",
     "output_type": "stream",
     "text": [
      "b'Skipping line 2331: expected 45 fields, saw 48\\nSkipping line 12467: expected 45 fields, saw 46\\nSkipping line 15362: expected 45 fields, saw 48\\nSkipping line 15376: expected 45 fields, saw 48\\n'\n",
      "b'Skipping line 36878: expected 45 fields, saw 48\\nSkipping line 36885: expected 45 fields, saw 48\\nSkipping line 42706: expected 45 fields, saw 46\\n'\n",
      "/Users/brad/anaconda3/lib/python3.5/site-packages/IPython/core/interactiveshell.py:2717: DtypeWarning: Columns (15,33) have mixed types. Specify dtype option on import or set low_memory=False.\n",
      "  interactivity=interactivity, compiler=compiler, result=result)\n"
     ]
    }
   ],
   "source": [
    "sample_data = pd.read_csv('data/pbp-2013.csv', error_bad_lines=False)\n",
    "#sample_data = pd.read_csv('sample.csv', error_bad_lines=False)\n",
    "\n",
    "# TODO run on all four seasons"
   ]
  },
  {
   "cell_type": "code",
   "execution_count": 270,
   "metadata": {
    "collapsed": false
   },
   "outputs": [
    {
     "data": {
      "text/plain": [
       "Index(['GameId', 'GameDate', 'Quarter', 'Minute', 'Second', 'OffenseTeam',\n",
       "       'DefenseTeam', 'Down', 'ToGo', 'YardLine', 'Unnamed: 10',\n",
       "       'SeriesFirstDown', 'Unnamed: 12', 'NextScore', 'Description', 'TeamWin',\n",
       "       'Unnamed: 16', 'Unnamed: 17', 'SeasonYear', 'Yards', 'Formation',\n",
       "       'PlayType', 'IsRush', 'IsPass', 'IsIncomplete', 'IsTouchdown',\n",
       "       'PassType', 'IsSack', 'IsChallenge', 'IsChallengeReversed',\n",
       "       'Challenger', 'IsMeasurement', 'IsInterception', 'IsFumble',\n",
       "       'IsPenalty', 'IsTwoPointConversion', 'IsTwoPointConversionSuccessful',\n",
       "       'RushDirection', 'YardLineFixed', 'YardLineDirection',\n",
       "       'IsPenaltyAccepted', 'PenaltyTeam', 'IsNoPlay', 'PenaltyType',\n",
       "       'PenaltyYards'],\n",
       "      dtype='object')"
      ]
     },
     "execution_count": 270,
     "metadata": {},
     "output_type": "execute_result"
    }
   ],
   "source": [
    "sample_data.columns"
   ]
  },
  {
   "cell_type": "code",
   "execution_count": 271,
   "metadata": {
    "collapsed": false
   },
   "outputs": [
    {
     "data": {
      "text/html": [
       "<div>\n",
       "<table border=\"1\" class=\"dataframe\">\n",
       "  <thead>\n",
       "    <tr style=\"text-align: right;\">\n",
       "      <th></th>\n",
       "      <th>GameId</th>\n",
       "      <th>GameDate</th>\n",
       "      <th>Quarter</th>\n",
       "      <th>Minute</th>\n",
       "      <th>Second</th>\n",
       "      <th>OffenseTeam</th>\n",
       "      <th>DefenseTeam</th>\n",
       "      <th>Down</th>\n",
       "      <th>ToGo</th>\n",
       "      <th>YardLine</th>\n",
       "      <th>...</th>\n",
       "      <th>IsTwoPointConversion</th>\n",
       "      <th>IsTwoPointConversionSuccessful</th>\n",
       "      <th>RushDirection</th>\n",
       "      <th>YardLineFixed</th>\n",
       "      <th>YardLineDirection</th>\n",
       "      <th>IsPenaltyAccepted</th>\n",
       "      <th>PenaltyTeam</th>\n",
       "      <th>IsNoPlay</th>\n",
       "      <th>PenaltyType</th>\n",
       "      <th>PenaltyYards</th>\n",
       "    </tr>\n",
       "  </thead>\n",
       "  <tbody>\n",
       "    <tr>\n",
       "      <th>0</th>\n",
       "      <td>2013090901</td>\n",
       "      <td>2013-09-09</td>\n",
       "      <td>1</td>\n",
       "      <td>0</td>\n",
       "      <td>0</td>\n",
       "      <td>NaN</td>\n",
       "      <td>HOU</td>\n",
       "      <td>0</td>\n",
       "      <td>0</td>\n",
       "      <td>0</td>\n",
       "      <td>...</td>\n",
       "      <td>0.0</td>\n",
       "      <td>0</td>\n",
       "      <td>NaN</td>\n",
       "      <td>0</td>\n",
       "      <td>OWN</td>\n",
       "      <td>0.0</td>\n",
       "      <td>NaN</td>\n",
       "      <td>0.0</td>\n",
       "      <td>NaN</td>\n",
       "      <td>0.0</td>\n",
       "    </tr>\n",
       "    <tr>\n",
       "      <th>1</th>\n",
       "      <td>2013092906</td>\n",
       "      <td>2013-09-29</td>\n",
       "      <td>2</td>\n",
       "      <td>0</td>\n",
       "      <td>0</td>\n",
       "      <td>NaN</td>\n",
       "      <td>PIT</td>\n",
       "      <td>0</td>\n",
       "      <td>0</td>\n",
       "      <td>0</td>\n",
       "      <td>...</td>\n",
       "      <td>0.0</td>\n",
       "      <td>0</td>\n",
       "      <td>NaN</td>\n",
       "      <td>0</td>\n",
       "      <td>OWN</td>\n",
       "      <td>0.0</td>\n",
       "      <td>NaN</td>\n",
       "      <td>0.0</td>\n",
       "      <td>NaN</td>\n",
       "      <td>0.0</td>\n",
       "    </tr>\n",
       "    <tr>\n",
       "      <th>2</th>\n",
       "      <td>2013111009</td>\n",
       "      <td>2013-11-10</td>\n",
       "      <td>3</td>\n",
       "      <td>0</td>\n",
       "      <td>0</td>\n",
       "      <td>NaN</td>\n",
       "      <td>HOU</td>\n",
       "      <td>0</td>\n",
       "      <td>0</td>\n",
       "      <td>0</td>\n",
       "      <td>...</td>\n",
       "      <td>0.0</td>\n",
       "      <td>0</td>\n",
       "      <td>NaN</td>\n",
       "      <td>0</td>\n",
       "      <td>OWN</td>\n",
       "      <td>0.0</td>\n",
       "      <td>NaN</td>\n",
       "      <td>0.0</td>\n",
       "      <td>NaN</td>\n",
       "      <td>0.0</td>\n",
       "    </tr>\n",
       "  </tbody>\n",
       "</table>\n",
       "<p>3 rows × 45 columns</p>\n",
       "</div>"
      ],
      "text/plain": [
       "       GameId    GameDate  Quarter  Minute  Second OffenseTeam DefenseTeam  \\\n",
       "0  2013090901  2013-09-09        1       0       0         NaN         HOU   \n",
       "1  2013092906  2013-09-29        2       0       0         NaN         PIT   \n",
       "2  2013111009  2013-11-10        3       0       0         NaN         HOU   \n",
       "\n",
       "   Down  ToGo  YardLine      ...       IsTwoPointConversion  \\\n",
       "0     0     0         0      ...                        0.0   \n",
       "1     0     0         0      ...                        0.0   \n",
       "2     0     0         0      ...                        0.0   \n",
       "\n",
       "   IsTwoPointConversionSuccessful  RushDirection  YardLineFixed  \\\n",
       "0                               0            NaN              0   \n",
       "1                               0            NaN              0   \n",
       "2                               0            NaN              0   \n",
       "\n",
       "  YardLineDirection IsPenaltyAccepted  PenaltyTeam  IsNoPlay  PenaltyType  \\\n",
       "0               OWN               0.0          NaN       0.0          NaN   \n",
       "1               OWN               0.0          NaN       0.0          NaN   \n",
       "2               OWN               0.0          NaN       0.0          NaN   \n",
       "\n",
       "   PenaltyYards  \n",
       "0           0.0  \n",
       "1           0.0  \n",
       "2           0.0  \n",
       "\n",
       "[3 rows x 45 columns]"
      ]
     },
     "execution_count": 271,
     "metadata": {},
     "output_type": "execute_result"
    }
   ],
   "source": [
    "# A few pieces of sample data\n",
    "sample_data[:3]"
   ]
  },
  {
   "cell_type": "code",
   "execution_count": 272,
   "metadata": {
    "collapsed": false
   },
   "outputs": [
    {
     "name": "stderr",
     "output_type": "stream",
     "text": [
      "/Users/brad/anaconda3/lib/python3.5/site-packages/numpy/lib/function_base.py:3834: RuntimeWarning: Invalid value encountered in percentile\n",
      "  RuntimeWarning)\n"
     ]
    },
    {
     "data": {
      "text/html": [
       "<div>\n",
       "<table border=\"1\" class=\"dataframe\">\n",
       "  <thead>\n",
       "    <tr style=\"text-align: right;\">\n",
       "      <th></th>\n",
       "      <th>GameId</th>\n",
       "      <th>Quarter</th>\n",
       "      <th>Minute</th>\n",
       "      <th>Second</th>\n",
       "      <th>Down</th>\n",
       "      <th>ToGo</th>\n",
       "      <th>YardLine</th>\n",
       "      <th>Unnamed: 10</th>\n",
       "      <th>SeriesFirstDown</th>\n",
       "      <th>Unnamed: 12</th>\n",
       "      <th>...</th>\n",
       "      <th>Challenger</th>\n",
       "      <th>IsMeasurement</th>\n",
       "      <th>IsInterception</th>\n",
       "      <th>IsPenalty</th>\n",
       "      <th>IsTwoPointConversion</th>\n",
       "      <th>IsTwoPointConversionSuccessful</th>\n",
       "      <th>YardLineFixed</th>\n",
       "      <th>IsPenaltyAccepted</th>\n",
       "      <th>IsNoPlay</th>\n",
       "      <th>PenaltyYards</th>\n",
       "    </tr>\n",
       "  </thead>\n",
       "  <tbody>\n",
       "    <tr>\n",
       "      <th>count</th>\n",
       "      <td>4.798300e+04</td>\n",
       "      <td>47983.000000</td>\n",
       "      <td>47983.000000</td>\n",
       "      <td>47983.000000</td>\n",
       "      <td>47983.000000</td>\n",
       "      <td>47983.000000</td>\n",
       "      <td>47983.000000</td>\n",
       "      <td>0.0</td>\n",
       "      <td>47983.000000</td>\n",
       "      <td>0.0</td>\n",
       "      <td>...</td>\n",
       "      <td>1.0</td>\n",
       "      <td>47982.0</td>\n",
       "      <td>47983.000000</td>\n",
       "      <td>47983.000000</td>\n",
       "      <td>47982.000000</td>\n",
       "      <td>47983.000000</td>\n",
       "      <td>47983.000000</td>\n",
       "      <td>47982.000000</td>\n",
       "      <td>47982.000000</td>\n",
       "      <td>47982.000000</td>\n",
       "    </tr>\n",
       "    <tr>\n",
       "      <th>mean</th>\n",
       "      <td>2.013140e+09</td>\n",
       "      <td>2.578309</td>\n",
       "      <td>6.450305</td>\n",
       "      <td>27.605527</td>\n",
       "      <td>1.691266</td>\n",
       "      <td>7.217598</td>\n",
       "      <td>44.575579</td>\n",
       "      <td>NaN</td>\n",
       "      <td>0.353813</td>\n",
       "      <td>NaN</td>\n",
       "      <td>...</td>\n",
       "      <td>0.0</td>\n",
       "      <td>0.0</td>\n",
       "      <td>0.012192</td>\n",
       "      <td>0.074526</td>\n",
       "      <td>0.001542</td>\n",
       "      <td>0.000729</td>\n",
       "      <td>26.109810</td>\n",
       "      <td>0.066879</td>\n",
       "      <td>0.047872</td>\n",
       "      <td>0.564232</td>\n",
       "    </tr>\n",
       "    <tr>\n",
       "      <th>std</th>\n",
       "      <td>1.694478e+05</td>\n",
       "      <td>1.130104</td>\n",
       "      <td>4.661143</td>\n",
       "      <td>18.269206</td>\n",
       "      <td>1.177899</td>\n",
       "      <td>4.861174</td>\n",
       "      <td>27.466733</td>\n",
       "      <td>NaN</td>\n",
       "      <td>0.478157</td>\n",
       "      <td>NaN</td>\n",
       "      <td>...</td>\n",
       "      <td>NaN</td>\n",
       "      <td>0.0</td>\n",
       "      <td>0.177273</td>\n",
       "      <td>0.262628</td>\n",
       "      <td>0.039242</td>\n",
       "      <td>0.026998</td>\n",
       "      <td>14.599243</td>\n",
       "      <td>0.249815</td>\n",
       "      <td>0.213498</td>\n",
       "      <td>2.531927</td>\n",
       "    </tr>\n",
       "    <tr>\n",
       "      <th>min</th>\n",
       "      <td>2.013090e+09</td>\n",
       "      <td>1.000000</td>\n",
       "      <td>0.000000</td>\n",
       "      <td>0.000000</td>\n",
       "      <td>0.000000</td>\n",
       "      <td>0.000000</td>\n",
       "      <td>0.000000</td>\n",
       "      <td>NaN</td>\n",
       "      <td>0.000000</td>\n",
       "      <td>NaN</td>\n",
       "      <td>...</td>\n",
       "      <td>0.0</td>\n",
       "      <td>0.0</td>\n",
       "      <td>0.000000</td>\n",
       "      <td>0.000000</td>\n",
       "      <td>0.000000</td>\n",
       "      <td>0.000000</td>\n",
       "      <td>0.000000</td>\n",
       "      <td>0.000000</td>\n",
       "      <td>0.000000</td>\n",
       "      <td>0.000000</td>\n",
       "    </tr>\n",
       "    <tr>\n",
       "      <th>25%</th>\n",
       "      <td>2.013101e+09</td>\n",
       "      <td>2.000000</td>\n",
       "      <td>2.000000</td>\n",
       "      <td>12.000000</td>\n",
       "      <td>1.000000</td>\n",
       "      <td>3.000000</td>\n",
       "      <td>24.000000</td>\n",
       "      <td>NaN</td>\n",
       "      <td>0.000000</td>\n",
       "      <td>NaN</td>\n",
       "      <td>...</td>\n",
       "      <td>NaN</td>\n",
       "      <td>NaN</td>\n",
       "      <td>0.000000</td>\n",
       "      <td>0.000000</td>\n",
       "      <td>NaN</td>\n",
       "      <td>0.000000</td>\n",
       "      <td>16.000000</td>\n",
       "      <td>NaN</td>\n",
       "      <td>NaN</td>\n",
       "      <td>NaN</td>\n",
       "    </tr>\n",
       "    <tr>\n",
       "      <th>50%</th>\n",
       "      <td>2.013110e+09</td>\n",
       "      <td>3.000000</td>\n",
       "      <td>6.000000</td>\n",
       "      <td>27.000000</td>\n",
       "      <td>2.000000</td>\n",
       "      <td>9.000000</td>\n",
       "      <td>39.000000</td>\n",
       "      <td>NaN</td>\n",
       "      <td>0.000000</td>\n",
       "      <td>NaN</td>\n",
       "      <td>...</td>\n",
       "      <td>NaN</td>\n",
       "      <td>NaN</td>\n",
       "      <td>0.000000</td>\n",
       "      <td>0.000000</td>\n",
       "      <td>NaN</td>\n",
       "      <td>0.000000</td>\n",
       "      <td>28.000000</td>\n",
       "      <td>NaN</td>\n",
       "      <td>NaN</td>\n",
       "      <td>NaN</td>\n",
       "    </tr>\n",
       "    <tr>\n",
       "      <th>75%</th>\n",
       "      <td>2.013121e+09</td>\n",
       "      <td>4.000000</td>\n",
       "      <td>10.000000</td>\n",
       "      <td>44.000000</td>\n",
       "      <td>3.000000</td>\n",
       "      <td>10.000000</td>\n",
       "      <td>65.000000</td>\n",
       "      <td>NaN</td>\n",
       "      <td>1.000000</td>\n",
       "      <td>NaN</td>\n",
       "      <td>...</td>\n",
       "      <td>NaN</td>\n",
       "      <td>NaN</td>\n",
       "      <td>0.000000</td>\n",
       "      <td>0.000000</td>\n",
       "      <td>NaN</td>\n",
       "      <td>0.000000</td>\n",
       "      <td>37.000000</td>\n",
       "      <td>NaN</td>\n",
       "      <td>NaN</td>\n",
       "      <td>NaN</td>\n",
       "    </tr>\n",
       "    <tr>\n",
       "      <th>max</th>\n",
       "      <td>2.014012e+09</td>\n",
       "      <td>5.000000</td>\n",
       "      <td>15.000000</td>\n",
       "      <td>59.000000</td>\n",
       "      <td>4.000000</td>\n",
       "      <td>48.000000</td>\n",
       "      <td>99.000000</td>\n",
       "      <td>NaN</td>\n",
       "      <td>1.000000</td>\n",
       "      <td>NaN</td>\n",
       "      <td>...</td>\n",
       "      <td>0.0</td>\n",
       "      <td>0.0</td>\n",
       "      <td>31.000000</td>\n",
       "      <td>1.000000</td>\n",
       "      <td>1.000000</td>\n",
       "      <td>1.000000</td>\n",
       "      <td>50.000000</td>\n",
       "      <td>1.000000</td>\n",
       "      <td>1.000000</td>\n",
       "      <td>48.000000</td>\n",
       "    </tr>\n",
       "  </tbody>\n",
       "</table>\n",
       "<p>8 rows × 32 columns</p>\n",
       "</div>"
      ],
      "text/plain": [
       "             GameId       Quarter        Minute        Second          Down  \\\n",
       "count  4.798300e+04  47983.000000  47983.000000  47983.000000  47983.000000   \n",
       "mean   2.013140e+09      2.578309      6.450305     27.605527      1.691266   \n",
       "std    1.694478e+05      1.130104      4.661143     18.269206      1.177899   \n",
       "min    2.013090e+09      1.000000      0.000000      0.000000      0.000000   \n",
       "25%    2.013101e+09      2.000000      2.000000     12.000000      1.000000   \n",
       "50%    2.013110e+09      3.000000      6.000000     27.000000      2.000000   \n",
       "75%    2.013121e+09      4.000000     10.000000     44.000000      3.000000   \n",
       "max    2.014012e+09      5.000000     15.000000     59.000000      4.000000   \n",
       "\n",
       "               ToGo      YardLine  Unnamed: 10  SeriesFirstDown  Unnamed: 12  \\\n",
       "count  47983.000000  47983.000000          0.0     47983.000000          0.0   \n",
       "mean       7.217598     44.575579          NaN         0.353813          NaN   \n",
       "std        4.861174     27.466733          NaN         0.478157          NaN   \n",
       "min        0.000000      0.000000          NaN         0.000000          NaN   \n",
       "25%        3.000000     24.000000          NaN         0.000000          NaN   \n",
       "50%        9.000000     39.000000          NaN         0.000000          NaN   \n",
       "75%       10.000000     65.000000          NaN         1.000000          NaN   \n",
       "max       48.000000     99.000000          NaN         1.000000          NaN   \n",
       "\n",
       "           ...       Challenger  IsMeasurement  IsInterception     IsPenalty  \\\n",
       "count      ...              1.0        47982.0    47983.000000  47983.000000   \n",
       "mean       ...              0.0            0.0        0.012192      0.074526   \n",
       "std        ...              NaN            0.0        0.177273      0.262628   \n",
       "min        ...              0.0            0.0        0.000000      0.000000   \n",
       "25%        ...              NaN            NaN        0.000000      0.000000   \n",
       "50%        ...              NaN            NaN        0.000000      0.000000   \n",
       "75%        ...              NaN            NaN        0.000000      0.000000   \n",
       "max        ...              0.0            0.0       31.000000      1.000000   \n",
       "\n",
       "       IsTwoPointConversion  IsTwoPointConversionSuccessful  YardLineFixed  \\\n",
       "count          47982.000000                    47983.000000   47983.000000   \n",
       "mean               0.001542                        0.000729      26.109810   \n",
       "std                0.039242                        0.026998      14.599243   \n",
       "min                0.000000                        0.000000       0.000000   \n",
       "25%                     NaN                        0.000000      16.000000   \n",
       "50%                     NaN                        0.000000      28.000000   \n",
       "75%                     NaN                        0.000000      37.000000   \n",
       "max                1.000000                        1.000000      50.000000   \n",
       "\n",
       "       IsPenaltyAccepted      IsNoPlay  PenaltyYards  \n",
       "count       47982.000000  47982.000000  47982.000000  \n",
       "mean            0.066879      0.047872      0.564232  \n",
       "std             0.249815      0.213498      2.531927  \n",
       "min             0.000000      0.000000      0.000000  \n",
       "25%                  NaN           NaN           NaN  \n",
       "50%                  NaN           NaN           NaN  \n",
       "75%                  NaN           NaN           NaN  \n",
       "max             1.000000      1.000000     48.000000  \n",
       "\n",
       "[8 rows x 32 columns]"
      ]
     },
     "execution_count": 272,
     "metadata": {},
     "output_type": "execute_result"
    }
   ],
   "source": [
    "# And some basic summary statistics\n",
    "sample_data.describe()"
   ]
  },
  {
   "cell_type": "code",
   "execution_count": 273,
   "metadata": {
    "collapsed": false
   },
   "outputs": [
    {
     "data": {
      "text/plain": [
       "4.149282037388241"
      ]
     },
     "execution_count": 273,
     "metadata": {},
     "output_type": "execute_result"
    }
   ],
   "source": [
    "# How many yards does a team gain on average?\n",
    "sample_data['Yards'].mean()"
   ]
  },
  {
   "cell_type": "code",
   "execution_count": 274,
   "metadata": {
    "collapsed": false
   },
   "outputs": [
    {
     "data": {
      "text/plain": [
       "PlayType\n",
       "0                       0.000000\n",
       "CLOCK STOP              0.000000\n",
       "EXCEPTION               0.000000\n",
       "EXTRA POINT             0.000000\n",
       "FIELD GOAL              0.000000\n",
       "FUMBLES                 0.000000\n",
       "KICK OFF                0.000000\n",
       "NO PLAY                 0.000000\n",
       "PASS                    7.421518\n",
       "PENALTY                 0.000000\n",
       "PUNT                    0.000000\n",
       "QB KNEEL                0.000000\n",
       "RUSH                    4.185426\n",
       "SACK                   -6.548834\n",
       "SCRAMBLE                7.869949\n",
       "TIMEOUT                 0.000000\n",
       "TWO-POINT CONVERSION    0.000000\n",
       "Name: Yards, dtype: float64"
      ]
     },
     "execution_count": 274,
     "metadata": {},
     "output_type": "execute_result"
    }
   ],
   "source": [
    "# Break out yards gained by play type\n",
    "sample_data.groupby('PlayType')['Yards'].mean()"
   ]
  },
  {
   "cell_type": "code",
   "execution_count": 275,
   "metadata": {
    "collapsed": false
   },
   "outputs": [
    {
     "data": {
      "text/html": [
       "<div>\n",
       "<table border=\"1\" class=\"dataframe\">\n",
       "  <thead>\n",
       "    <tr style=\"text-align: right;\">\n",
       "      <th></th>\n",
       "      <th>GameId</th>\n",
       "      <th>GameDate</th>\n",
       "      <th>Quarter</th>\n",
       "      <th>Minute</th>\n",
       "      <th>Second</th>\n",
       "      <th>OffenseTeam</th>\n",
       "      <th>DefenseTeam</th>\n",
       "      <th>Down</th>\n",
       "      <th>ToGo</th>\n",
       "      <th>YardLine</th>\n",
       "      <th>...</th>\n",
       "      <th>IsTwoPointConversion</th>\n",
       "      <th>IsTwoPointConversionSuccessful</th>\n",
       "      <th>RushDirection</th>\n",
       "      <th>YardLineFixed</th>\n",
       "      <th>YardLineDirection</th>\n",
       "      <th>IsPenaltyAccepted</th>\n",
       "      <th>PenaltyTeam</th>\n",
       "      <th>IsNoPlay</th>\n",
       "      <th>PenaltyType</th>\n",
       "      <th>PenaltyYards</th>\n",
       "    </tr>\n",
       "  </thead>\n",
       "  <tbody>\n",
       "    <tr>\n",
       "      <th>75</th>\n",
       "      <td>2013112411</td>\n",
       "      <td>2013-11-24</td>\n",
       "      <td>3</td>\n",
       "      <td>5</td>\n",
       "      <td>45</td>\n",
       "      <td>NE</td>\n",
       "      <td>DEN</td>\n",
       "      <td>2</td>\n",
       "      <td>1</td>\n",
       "      <td>99</td>\n",
       "      <td>...</td>\n",
       "      <td>0.0</td>\n",
       "      <td>0</td>\n",
       "      <td>CENTER</td>\n",
       "      <td>1</td>\n",
       "      <td>OPP</td>\n",
       "      <td>0.0</td>\n",
       "      <td>NaN</td>\n",
       "      <td>0.0</td>\n",
       "      <td>NaN</td>\n",
       "      <td>0.0</td>\n",
       "    </tr>\n",
       "    <tr>\n",
       "      <th>83</th>\n",
       "      <td>2013120111</td>\n",
       "      <td>2013-12-01</td>\n",
       "      <td>1</td>\n",
       "      <td>8</td>\n",
       "      <td>16</td>\n",
       "      <td>WAS</td>\n",
       "      <td>NYG</td>\n",
       "      <td>2</td>\n",
       "      <td>1</td>\n",
       "      <td>99</td>\n",
       "      <td>...</td>\n",
       "      <td>0.0</td>\n",
       "      <td>0</td>\n",
       "      <td>CENTER</td>\n",
       "      <td>1</td>\n",
       "      <td>OPP</td>\n",
       "      <td>0.0</td>\n",
       "      <td>NaN</td>\n",
       "      <td>0.0</td>\n",
       "      <td>NaN</td>\n",
       "      <td>0.0</td>\n",
       "    </tr>\n",
       "    <tr>\n",
       "      <th>113</th>\n",
       "      <td>2013090500</td>\n",
       "      <td>2013-09-05</td>\n",
       "      <td>1</td>\n",
       "      <td>14</td>\n",
       "      <td>14</td>\n",
       "      <td>BAL</td>\n",
       "      <td>DEN</td>\n",
       "      <td>2</td>\n",
       "      <td>11</td>\n",
       "      <td>19</td>\n",
       "      <td>...</td>\n",
       "      <td>0.0</td>\n",
       "      <td>0</td>\n",
       "      <td>LEFT TACKLE</td>\n",
       "      <td>19</td>\n",
       "      <td>OWN</td>\n",
       "      <td>0.0</td>\n",
       "      <td>NaN</td>\n",
       "      <td>0.0</td>\n",
       "      <td>NaN</td>\n",
       "      <td>0.0</td>\n",
       "    </tr>\n",
       "  </tbody>\n",
       "</table>\n",
       "<p>3 rows × 45 columns</p>\n",
       "</div>"
      ],
      "text/plain": [
       "         GameId    GameDate  Quarter  Minute  Second OffenseTeam DefenseTeam  \\\n",
       "75   2013112411  2013-11-24        3       5      45          NE         DEN   \n",
       "83   2013120111  2013-12-01        1       8      16         WAS         NYG   \n",
       "113  2013090500  2013-09-05        1      14      14         BAL         DEN   \n",
       "\n",
       "     Down  ToGo  YardLine      ...       IsTwoPointConversion  \\\n",
       "75      2     1        99      ...                        0.0   \n",
       "83      2     1        99      ...                        0.0   \n",
       "113     2    11        19      ...                        0.0   \n",
       "\n",
       "     IsTwoPointConversionSuccessful  RushDirection  YardLineFixed  \\\n",
       "75                                0         CENTER              1   \n",
       "83                                0         CENTER              1   \n",
       "113                               0    LEFT TACKLE             19   \n",
       "\n",
       "    YardLineDirection IsPenaltyAccepted  PenaltyTeam  IsNoPlay  PenaltyType  \\\n",
       "75                OPP               0.0          NaN       0.0          NaN   \n",
       "83                OPP               0.0          NaN       0.0          NaN   \n",
       "113               OWN               0.0          NaN       0.0          NaN   \n",
       "\n",
       "     PenaltyYards  \n",
       "75            0.0  \n",
       "83            0.0  \n",
       "113           0.0  \n",
       "\n",
       "[3 rows x 45 columns]"
      ]
     },
     "execution_count": 275,
     "metadata": {},
     "output_type": "execute_result"
    }
   ],
   "source": [
    "# Lets look at just rushing plays\n",
    "rushing_plays = sample_data.loc[sample_data['PlayType'] == 'RUSH']\n",
    "rushing_plays[:3]"
   ]
  },
  {
   "cell_type": "code",
   "execution_count": 276,
   "metadata": {
    "collapsed": false
   },
   "outputs": [
    {
     "data": {
      "text/plain": [
       "count    13353.000000\n",
       "mean         4.185426\n",
       "std          6.301129\n",
       "min        -13.000000\n",
       "25%          1.000000\n",
       "50%          3.000000\n",
       "75%          6.000000\n",
       "max         93.000000\n",
       "Name: Yards, dtype: float64"
      ]
     },
     "execution_count": 276,
     "metadata": {},
     "output_type": "execute_result"
    }
   ],
   "source": [
    "# Get a basic distribution of yards on rushes\n",
    "rushing_plays['Yards'].describe()"
   ]
  },
  {
   "cell_type": "code",
   "execution_count": 277,
   "metadata": {
    "collapsed": false
   },
   "outputs": [
    {
     "data": {
      "text/plain": [
       "<matplotlib.axes._subplots.AxesSubplot at 0x12b629b38>"
      ]
     },
     "execution_count": 277,
     "metadata": {},
     "output_type": "execute_result"
    },
    {
     "data": {
      "image/png": "[encoded data removed]",
      "text/plain": [
       "<matplotlib.figure.Figure at 0x12b3ff3c8>"
      ]
     },
     "metadata": {},
     "output_type": "display_data"
    }
   ],
   "source": [
    "# In graphical form\n",
    "rushing_plays['Yards'].hist(bins=30)"
   ]
  },
  {
   "cell_type": "code",
   "execution_count": 278,
   "metadata": {
    "collapsed": false
   },
   "outputs": [
    {
     "data": {
      "text/plain": [
       "<matplotlib.axes._subplots.AxesSubplot at 0x12af8fd68>"
      ]
     },
     "execution_count": 278,
     "metadata": {},
     "output_type": "execute_result"
    },
    {
     "data": {
      "image/png": "[encoded data removed]",
      "text/plain": [
       "<matplotlib.figure.Figure at 0x12b1d9be0>"
      ]
     },
     "metadata": {},
     "output_type": "display_data"
    }
   ],
   "source": [
    "# \"Normed\" version of same\n",
    "rushing_plays['Yards'].hist(bins=30, normed=True)"
   ]
  },
  {
   "cell_type": "code",
   "execution_count": 279,
   "metadata": {
    "collapsed": false
   },
   "outputs": [
    {
     "data": {
      "text/plain": [
       "array([[<matplotlib.axes._subplots.AxesSubplot object at 0x12a77d7f0>,\n",
       "        <matplotlib.axes._subplots.AxesSubplot object at 0x12a2870f0>,\n",
       "        <matplotlib.axes._subplots.AxesSubplot object at 0x129f7b9e8>,\n",
       "        <matplotlib.axes._subplots.AxesSubplot object at 0x129e77ef0>],\n",
       "       [<matplotlib.axes._subplots.AxesSubplot object at 0x12ae8fdd8>,\n",
       "        <matplotlib.axes._subplots.AxesSubplot object at 0x12fccb1d0>,\n",
       "        <matplotlib.axes._subplots.AxesSubplot object at 0x115a442e8>,\n",
       "        <matplotlib.axes._subplots.AxesSubplot object at 0x115a4aba8>],\n",
       "       [<matplotlib.axes._subplots.AxesSubplot object at 0x119b27ac8>,\n",
       "        <matplotlib.axes._subplots.AxesSubplot object at 0x119c0eef0>,\n",
       "        <matplotlib.axes._subplots.AxesSubplot object at 0x129fd3198>,\n",
       "        <matplotlib.axes._subplots.AxesSubplot object at 0x12a01b3c8>],\n",
       "       [<matplotlib.axes._subplots.AxesSubplot object at 0x12a5d7160>,\n",
       "        <matplotlib.axes._subplots.AxesSubplot object at 0x12a620278>,\n",
       "        <matplotlib.axes._subplots.AxesSubplot object at 0x12a625c18>,\n",
       "        <matplotlib.axes._subplots.AxesSubplot object at 0x12a830a58>],\n",
       "       [<matplotlib.axes._subplots.AxesSubplot object at 0x12aa71e80>,\n",
       "        <matplotlib.axes._subplots.AxesSubplot object at 0x12ac81128>,\n",
       "        <matplotlib.axes._subplots.AxesSubplot object at 0x12b161358>,\n",
       "        <matplotlib.axes._subplots.AxesSubplot object at 0x12d84c0f0>]], dtype=object)"
      ]
     },
     "execution_count": 279,
     "metadata": {},
     "output_type": "execute_result"
    },
    {
     "data": {
      "image/png": "[encoded data removed]",
      "text/plain": [
       "<matplotlib.figure.Figure at 0x12a9c7e10>"
      ]
     },
     "metadata": {},
     "output_type": "display_data"
    }
   ],
   "source": [
    "# By all play types\n",
    "sample_data.hist('Yards', by='PlayType', normed=True)"
   ]
  },
  {
   "cell_type": "code",
   "execution_count": 280,
   "metadata": {
    "collapsed": false
   },
   "outputs": [
    {
     "data": {
      "text/plain": [
       "array([[<matplotlib.axes._subplots.AxesSubplot object at 0x12dd45780>,\n",
       "        <matplotlib.axes._subplots.AxesSubplot object at 0x12faa7160>],\n",
       "       [<matplotlib.axes._subplots.AxesSubplot object at 0x12fc0d668>,\n",
       "        <matplotlib.axes._subplots.AxesSubplot object at 0x12fc3ce48>]], dtype=object)"
      ]
     },
     "execution_count": 280,
     "metadata": {},
     "output_type": "execute_result"
    },
    {
     "data": {
      "image/png": "[encoded data removed]",
      "text/plain": [
       "<matplotlib.figure.Figure at 0x128ff7320>"
      ]
     },
     "metadata": {},
     "output_type": "display_data"
    }
   ],
   "source": [
    "# That's confusing, let's look at just the plays that have meaningful yardage\n",
    "play_types_from_scrimmage = ['PASS', 'RUSH', 'SACK', 'SCRAMBLE']\n",
    "plays_from_scrimmage = sample_data.loc[sample_data['PlayType'].isin(play_types_from_scrimmage)]\n",
    "plays_from_scrimmage.hist('Yards', by='PlayType', bins=20, normed=True)"
   ]
  },
  {
   "cell_type": "code",
   "execution_count": 297,
   "metadata": {
    "collapsed": false
   },
   "outputs": [
    {
     "data": {
      "image/png": "[encoded data removed]",
      "text/plain": [
       "<matplotlib.figure.Figure at 0x1333c5668>"
      ]
     },
     "metadata": {},
     "output_type": "display_data"
    }
   ],
   "source": [
    "# Going back to just the rushing yards\n",
    "rushing_yards = rushing_plays['Yards']\n",
    "plt.hist(rushing_yards, bins=40, normed=True)\n",
    "# From http://danielhnyk.cz/fitting-distribution-histogram-using-python/\n",
    "# find minimum and maximum of xticks, so we know\n",
    "# where we should compute theoretical distribution\n",
    "xt = plt.xticks()[0]  \n",
    "xmin, xmax = min(xt), max(xt)  \n",
    "lnspc = np.linspace(xmin, xmax, len(rushing_yards))"
   ]
  },
  {
   "cell_type": "code",
   "execution_count": 204,
   "metadata": {
    "collapsed": false
   },
   "outputs": [
    {
     "data": {
      "text/plain": [
       "array([ 0.        ,  0.00134228,  0.00268456,  0.00402685,  0.00536913,\n",
       "        0.00671141,  0.00805369,  0.00939597,  0.01073826,  0.01208054,\n",
       "        0.01342282,  0.0147651 ,  0.01610738,  0.01744966,  0.01879195,\n",
       "        0.02013423,  0.02147651,  0.02281879,  0.02416107,  0.02550336,\n",
       "        0.02684564,  0.02818792,  0.0295302 ,  0.03087248,  0.03221477,\n",
       "        0.03355705,  0.03489933,  0.03624161,  0.03758389,  0.03892617,\n",
       "        0.04026846,  0.04161074,  0.04295302,  0.0442953 ,  0.04563758,\n",
       "        0.04697987,  0.04832215,  0.04966443,  0.05100671,  0.05234899,\n",
       "        0.05369128,  0.05503356,  0.05637584,  0.05771812,  0.0590604 ,\n",
       "        0.06040268,  0.06174497,  0.06308725,  0.06442953,  0.06577181,\n",
       "        0.06711409,  0.06845638,  0.06979866,  0.07114094,  0.07248322,\n",
       "        0.0738255 ,  0.07516779,  0.07651007,  0.07785235,  0.07919463,\n",
       "        0.08053691,  0.08187919,  0.08322148,  0.08456376,  0.08590604,\n",
       "        0.08724832,  0.0885906 ,  0.08993289,  0.09127517,  0.09261745,\n",
       "        0.09395973,  0.09530201,  0.0966443 ,  0.09798658,  0.09932886,\n",
       "        0.10067114,  0.10201342,  0.1033557 ,  0.10469799,  0.10604027,\n",
       "        0.10738255,  0.10872483,  0.11006711,  0.1114094 ,  0.11275168,\n",
       "        0.11409396,  0.11543624,  0.11677852,  0.11812081,  0.11946309,\n",
       "        0.12080537,  0.12214765,  0.12348993,  0.12483221,  0.1261745 ,\n",
       "        0.12751678,  0.12885906,  0.13020134,  0.13154362,  0.13288591,\n",
       "        0.13422819,  0.13557047,  0.13691275,  0.13825503,  0.13959732,\n",
       "        0.1409396 ,  0.14228188,  0.14362416,  0.14496644,  0.14630872,\n",
       "        0.14765101,  0.14899329,  0.15033557,  0.15167785,  0.15302013,\n",
       "        0.15436242,  0.1557047 ,  0.15704698,  0.15838926,  0.15973154,\n",
       "        0.16107383,  0.16241611,  0.16375839,  0.16510067,  0.16644295,\n",
       "        0.16778523,  0.16912752,  0.1704698 ,  0.17181208,  0.17315436,\n",
       "        0.17449664,  0.17583893,  0.17718121,  0.17852349,  0.17986577,\n",
       "        0.18120805,  0.18255034,  0.18389262,  0.1852349 ,  0.18657718,\n",
       "        0.18791946,  0.18926174,  0.19060403,  0.19194631,  0.19328859,\n",
       "        0.19463087,  0.19597315,  0.19731544,  0.19865772,  0.2       ,\n",
       "        0.20134228,  0.20268456,  0.20402685,  0.20536913,  0.20671141,\n",
       "        0.20805369,  0.20939597,  0.21073826,  0.21208054,  0.21342282,\n",
       "        0.2147651 ,  0.21610738,  0.21744966,  0.21879195,  0.22013423,\n",
       "        0.22147651,  0.22281879,  0.22416107,  0.22550336,  0.22684564,\n",
       "        0.22818792,  0.2295302 ,  0.23087248,  0.23221477,  0.23355705,\n",
       "        0.23489933,  0.23624161,  0.23758389,  0.23892617,  0.24026846,\n",
       "        0.24161074,  0.24295302,  0.2442953 ,  0.24563758,  0.24697987,\n",
       "        0.24832215,  0.24966443,  0.25100671,  0.25234899,  0.25369128,\n",
       "        0.25503356,  0.25637584,  0.25771812,  0.2590604 ,  0.26040268,\n",
       "        0.26174497,  0.26308725,  0.26442953,  0.26577181,  0.26711409,\n",
       "        0.26845638,  0.26979866,  0.27114094,  0.27248322,  0.2738255 ,\n",
       "        0.27516779,  0.27651007,  0.27785235,  0.27919463,  0.28053691,\n",
       "        0.28187919,  0.28322148,  0.28456376,  0.28590604,  0.28724832,\n",
       "        0.2885906 ,  0.28993289,  0.29127517,  0.29261745,  0.29395973,\n",
       "        0.29530201,  0.2966443 ,  0.29798658,  0.29932886,  0.30067114,\n",
       "        0.30201342,  0.3033557 ,  0.30469799,  0.30604027,  0.30738255,\n",
       "        0.30872483,  0.31006711,  0.3114094 ,  0.31275168,  0.31409396,\n",
       "        0.31543624,  0.31677852,  0.31812081,  0.31946309,  0.32080537,\n",
       "        0.32214765,  0.32348993,  0.32483221,  0.3261745 ,  0.32751678,\n",
       "        0.32885906,  0.33020134,  0.33154362,  0.33288591,  0.33422819,\n",
       "        0.33557047,  0.33691275,  0.33825503,  0.33959732,  0.3409396 ,\n",
       "        0.34228188,  0.34362416,  0.34496644,  0.34630872,  0.34765101,\n",
       "        0.34899329,  0.35033557,  0.35167785,  0.35302013,  0.35436242,\n",
       "        0.3557047 ,  0.35704698,  0.35838926,  0.35973154,  0.36107383,\n",
       "        0.36241611,  0.36375839,  0.36510067,  0.36644295,  0.36778523,\n",
       "        0.36912752,  0.3704698 ,  0.37181208,  0.37315436,  0.37449664,\n",
       "        0.37583893,  0.37718121,  0.37852349,  0.37986577,  0.38120805,\n",
       "        0.38255034,  0.38389262,  0.3852349 ,  0.38657718,  0.38791946,\n",
       "        0.38926174,  0.39060403,  0.39194631,  0.39328859,  0.39463087,\n",
       "        0.39597315,  0.39731544,  0.39865772,  0.4       ,  0.40134228,\n",
       "        0.40268456,  0.40402685,  0.40536913,  0.40671141,  0.40805369,\n",
       "        0.40939597,  0.41073826,  0.41208054,  0.41342282,  0.4147651 ,\n",
       "        0.41610738,  0.41744966,  0.41879195,  0.42013423,  0.42147651,\n",
       "        0.42281879,  0.42416107,  0.42550336,  0.42684564,  0.42818792,\n",
       "        0.4295302 ,  0.43087248,  0.43221477,  0.43355705,  0.43489933,\n",
       "        0.43624161,  0.43758389,  0.43892617,  0.44026846,  0.44161074,\n",
       "        0.44295302,  0.4442953 ,  0.44563758,  0.44697987,  0.44832215,\n",
       "        0.44966443,  0.45100671,  0.45234899,  0.45369128,  0.45503356,\n",
       "        0.45637584,  0.45771812,  0.4590604 ,  0.46040268,  0.46174497,\n",
       "        0.46308725,  0.46442953,  0.46577181,  0.46711409,  0.46845638,\n",
       "        0.46979866,  0.47114094,  0.47248322,  0.4738255 ,  0.47516779,\n",
       "        0.47651007,  0.47785235,  0.47919463,  0.48053691,  0.48187919,\n",
       "        0.48322148,  0.48456376,  0.48590604,  0.48724832,  0.4885906 ,\n",
       "        0.48993289,  0.49127517,  0.49261745,  0.49395973,  0.49530201,\n",
       "        0.4966443 ,  0.49798658,  0.49932886,  0.50067114,  0.50201342,\n",
       "        0.5033557 ,  0.50469799,  0.50604027,  0.50738255,  0.50872483,\n",
       "        0.51006711,  0.5114094 ,  0.51275168,  0.51409396,  0.51543624,\n",
       "        0.51677852,  0.51812081,  0.51946309,  0.52080537,  0.52214765,\n",
       "        0.52348993,  0.52483221,  0.5261745 ,  0.52751678,  0.52885906,\n",
       "        0.53020134,  0.53154362,  0.53288591,  0.53422819,  0.53557047,\n",
       "        0.53691275,  0.53825503,  0.53959732,  0.5409396 ,  0.54228188,\n",
       "        0.54362416,  0.54496644,  0.54630872,  0.54765101,  0.54899329,\n",
       "        0.55033557,  0.55167785,  0.55302013,  0.55436242,  0.5557047 ,\n",
       "        0.55704698,  0.55838926,  0.55973154,  0.56107383,  0.56241611,\n",
       "        0.56375839,  0.56510067,  0.56644295,  0.56778523,  0.56912752,\n",
       "        0.5704698 ,  0.57181208,  0.57315436,  0.57449664,  0.57583893,\n",
       "        0.57718121,  0.57852349,  0.57986577,  0.58120805,  0.58255034,\n",
       "        0.58389262,  0.5852349 ,  0.58657718,  0.58791946,  0.58926174,\n",
       "        0.59060403,  0.59194631,  0.59328859,  0.59463087,  0.59597315,\n",
       "        0.59731544,  0.59865772,  0.6       ,  0.60134228,  0.60268456,\n",
       "        0.60402685,  0.60536913,  0.60671141,  0.60805369,  0.60939597,\n",
       "        0.61073826,  0.61208054,  0.61342282,  0.6147651 ,  0.61610738,\n",
       "        0.61744966,  0.61879195,  0.62013423,  0.62147651,  0.62281879,\n",
       "        0.62416107,  0.62550336,  0.62684564,  0.62818792,  0.6295302 ,\n",
       "        0.63087248,  0.63221477,  0.63355705,  0.63489933,  0.63624161,\n",
       "        0.63758389,  0.63892617,  0.64026846,  0.64161074,  0.64295302,\n",
       "        0.6442953 ,  0.64563758,  0.64697987,  0.64832215,  0.64966443,\n",
       "        0.65100671,  0.65234899,  0.65369128,  0.65503356,  0.65637584,\n",
       "        0.65771812,  0.6590604 ,  0.66040268,  0.66174497,  0.66308725,\n",
       "        0.66442953,  0.66577181,  0.66711409,  0.66845638,  0.66979866,\n",
       "        0.67114094,  0.67248322,  0.6738255 ,  0.67516779,  0.67651007,\n",
       "        0.67785235,  0.67919463,  0.68053691,  0.68187919,  0.68322148,\n",
       "        0.68456376,  0.68590604,  0.68724832,  0.6885906 ,  0.68993289,\n",
       "        0.69127517,  0.69261745,  0.69395973,  0.69530201,  0.6966443 ,\n",
       "        0.69798658,  0.69932886,  0.70067114,  0.70201342,  0.7033557 ,\n",
       "        0.70469799,  0.70604027,  0.70738255,  0.70872483,  0.71006711,\n",
       "        0.7114094 ,  0.71275168,  0.71409396,  0.71543624,  0.71677852,\n",
       "        0.71812081,  0.71946309,  0.72080537,  0.72214765,  0.72348993,\n",
       "        0.72483221,  0.7261745 ,  0.72751678,  0.72885906,  0.73020134,\n",
       "        0.73154362,  0.73288591,  0.73422819,  0.73557047,  0.73691275,\n",
       "        0.73825503,  0.73959732,  0.7409396 ,  0.74228188,  0.74362416,\n",
       "        0.74496644,  0.74630872,  0.74765101,  0.74899329,  0.75033557,\n",
       "        0.75167785,  0.75302013,  0.75436242,  0.7557047 ,  0.75704698,\n",
       "        0.75838926,  0.75973154,  0.76107383,  0.76241611,  0.76375839,\n",
       "        0.76510067,  0.76644295,  0.76778523,  0.76912752,  0.7704698 ,\n",
       "        0.77181208,  0.77315436,  0.77449664,  0.77583893,  0.77718121,\n",
       "        0.77852349,  0.77986577,  0.78120805,  0.78255034,  0.78389262,\n",
       "        0.7852349 ,  0.78657718,  0.78791946,  0.78926174,  0.79060403,\n",
       "        0.79194631,  0.79328859,  0.79463087,  0.79597315,  0.79731544,\n",
       "        0.79865772,  0.8       ,  0.80134228,  0.80268456,  0.80402685,\n",
       "        0.80536913,  0.80671141,  0.80805369,  0.80939597,  0.81073826,\n",
       "        0.81208054,  0.81342282,  0.8147651 ,  0.81610738,  0.81744966,\n",
       "        0.81879195,  0.82013423,  0.82147651,  0.82281879,  0.82416107,\n",
       "        0.82550336,  0.82684564,  0.82818792,  0.8295302 ,  0.83087248,\n",
       "        0.83221477,  0.83355705,  0.83489933,  0.83624161,  0.83758389,\n",
       "        0.83892617,  0.84026846,  0.84161074,  0.84295302,  0.8442953 ,\n",
       "        0.84563758,  0.84697987,  0.84832215,  0.84966443,  0.85100671,\n",
       "        0.85234899,  0.85369128,  0.85503356,  0.85637584,  0.85771812,\n",
       "        0.8590604 ,  0.86040268,  0.86174497,  0.86308725,  0.86442953,\n",
       "        0.86577181,  0.86711409,  0.86845638,  0.86979866,  0.87114094,\n",
       "        0.87248322,  0.8738255 ,  0.87516779,  0.87651007,  0.87785235,\n",
       "        0.87919463,  0.88053691,  0.88187919,  0.88322148,  0.88456376,\n",
       "        0.88590604,  0.88724832,  0.8885906 ,  0.88993289,  0.89127517,\n",
       "        0.89261745,  0.89395973,  0.89530201,  0.8966443 ,  0.89798658,\n",
       "        0.89932886,  0.90067114,  0.90201342,  0.9033557 ,  0.90469799,\n",
       "        0.90604027,  0.90738255,  0.90872483,  0.91006711,  0.9114094 ,\n",
       "        0.91275168,  0.91409396,  0.91543624,  0.91677852,  0.91812081,\n",
       "        0.91946309,  0.92080537,  0.92214765,  0.92348993,  0.92483221,\n",
       "        0.9261745 ,  0.92751678,  0.92885906,  0.93020134,  0.93154362,\n",
       "        0.93288591,  0.93422819,  0.93557047,  0.93691275,  0.93825503,\n",
       "        0.93959732,  0.9409396 ,  0.94228188,  0.94362416,  0.94496644,\n",
       "        0.94630872,  0.94765101,  0.94899329,  0.95033557,  0.95167785,\n",
       "        0.95302013,  0.95436242,  0.9557047 ,  0.95704698,  0.95838926,\n",
       "        0.95973154,  0.96107383,  0.96241611,  0.96375839,  0.96510067,\n",
       "        0.96644295,  0.96778523,  0.96912752,  0.9704698 ,  0.97181208,\n",
       "        0.97315436,  0.97449664,  0.97583893,  0.97718121,  0.97852349,\n",
       "        0.97986577,  0.98120805,  0.98255034,  0.98389262,  0.9852349 ,\n",
       "        0.98657718,  0.98791946,  0.98926174,  0.99060403,  0.99194631,\n",
       "        0.99328859,  0.99463087,  0.99597315,  0.99731544,  0.99865772,  1.        ])"
      ]
     },
     "execution_count": 204,
     "metadata": {},
     "output_type": "execute_result"
    },
    {
     "data": {
      "image/png": "[encoded data removed]",
      "text/plain": [
       "<matplotlib.figure.Figure at 0x12b1c16a0>"
      ]
     },
     "metadata": {},
     "output_type": "display_data"
    }
   ],
   "source": []
  },
  {
   "cell_type": "code",
   "execution_count": 298,
   "metadata": {
    "collapsed": false
   },
   "outputs": [],
   "source": [
    "# The data isn't normal, but let's try a normal fit for now\n",
    "mean, stddev = stats.norm.fit(rushing_yards)"
   ]
  },
  {
   "cell_type": "code",
   "execution_count": 299,
   "metadata": {
    "collapsed": false
   },
   "outputs": [
    {
     "data": {
      "text/plain": [
       "4.1854264959185201"
      ]
     },
     "execution_count": 299,
     "metadata": {},
     "output_type": "execute_result"
    }
   ],
   "source": [
    "mean"
   ]
  },
  {
   "cell_type": "code",
   "execution_count": 285,
   "metadata": {
    "collapsed": false
   },
   "outputs": [
    {
     "data": {
      "text/plain": [
       "6.3008933450513984"
      ]
     },
     "execution_count": 285,
     "metadata": {},
     "output_type": "execute_result"
    }
   ],
   "source": [
    "stddev"
   ]
  },
  {
   "cell_type": "code",
   "execution_count": 286,
   "metadata": {
    "collapsed": false
   },
   "outputs": [
    {
     "data": {
      "text/plain": [
       "4.18542649591852"
      ]
     },
     "execution_count": 286,
     "metadata": {},
     "output_type": "execute_result"
    }
   ],
   "source": [
    "# Sanity-check our fit\n",
    "rushing_yards.mean()"
   ]
  },
  {
   "cell_type": "code",
   "execution_count": 300,
   "metadata": {
    "collapsed": false
   },
   "outputs": [
    {
     "data": {
      "text/plain": [
       "[<matplotlib.lines.Line2D at 0x1332d1e10>]"
      ]
     },
     "execution_count": 300,
     "metadata": {},
     "output_type": "execute_result"
    },
    {
     "data": {
      "image/png": "[encoded data removed]",
      "text/plain": [
       "<matplotlib.figure.Figure at 0x133306b00>"
      ]
     },
     "metadata": {},
     "output_type": "display_data"
    }
   ],
   "source": [
    "pdf_fitted = stats.norm.pdf(lnspc, mean, stddev)\n",
    "plt.hist(rushing_yards, color='w', bins=40, normed=True)\n",
    "plt.plot(lnspc, pdf_fitted, label='norm')"
   ]
  },
  {
   "cell_type": "code",
   "execution_count": 301,
   "metadata": {
    "collapsed": false
   },
   "outputs": [
    {
     "data": {
      "text/plain": [
       "[<matplotlib.lines.Line2D at 0x133394320>]"
      ]
     },
     "execution_count": 301,
     "metadata": {},
     "output_type": "execute_result"
    },
    {
     "data": {
      "image/png": "[encoded data removed]",
      "text/plain": [
       "<matplotlib.figure.Figure at 0x1333943c8>"
      ]
     },
     "metadata": {},
     "output_type": "display_data"
    }
   ],
   "source": [
    "# exactly same as above but for Gamma\n",
    "ag,bg,cg = stats.gamma.fit(rushing_yards)  \n",
    "pdf_gamma = stats.gamma.pdf(lnspc, ag, bg, cg) \n",
    "plt.hist(rushing_yards, color='w', bins=40, normed=True)\n",
    "plt.plot(lnspc, pdf_gamma, label=\"Gamma\")"
   ]
  },
  {
   "cell_type": "code",
   "execution_count": 302,
   "metadata": {
    "collapsed": false
   },
   "outputs": [
    {
     "name": "stderr",
     "output_type": "stream",
     "text": [
      "/Users/brad/anaconda3/lib/python3.5/site-packages/scipy/optimize/minpack.py:161: RuntimeWarning: The iteration is not making good progress, as measured by the \n",
      "  improvement from the last ten iterations.\n",
      "  warnings.warn(msg, RuntimeWarning)\n"
     ]
    },
    {
     "data": {
      "text/plain": [
       "[<matplotlib.lines.Line2D at 0x13375d1d0>]"
      ]
     },
     "execution_count": 302,
     "metadata": {},
     "output_type": "execute_result"
    },
    {
     "data": {
      "image/png": "[encoded data removed]",
      "text/plain": [
       "<matplotlib.figure.Figure at 0x1330018d0>"
      ]
     },
     "metadata": {},
     "output_type": "display_data"
    }
   ],
   "source": [
    "# How about beta?\n",
    "ab,bb,cb,db = stats.beta.fit(rushing_yards)  \n",
    "pdf_beta = stats.beta.pdf(lnspc, ab, bb, cb, db)\n",
    "plt.hist(rushing_yards, color='w', bins=40, normed=True)\n",
    "plt.plot(lnspc, pdf_beta, label=\"Beta\")"
   ]
  },
  {
   "cell_type": "code",
   "execution_count": 310,
   "metadata": {
    "collapsed": false
   },
   "outputs": [
    {
     "data": {
      "text/plain": [
       "array([  8.,   1.,   3.,   8.,  10.,  -0.,  24.,   6.,   9.,   1.,  -1.,\n",
       "         0.,   9.,   7.,   3.,   1.,   2.,   3.,   2.,  -2.])"
      ]
     },
     "execution_count": 310,
     "metadata": {},
     "output_type": "execute_result"
    }
   ],
   "source": [
    "# Beta's not theoretically ideal, because it's bounded, but let's see if we can draw some samples from it\n",
    "# anyway to understand how that would work.\n",
    "# \n",
    "# Do these look like the results of 20 running plays? Plausible\n",
    "stats.beta.rvs(ab,bb,cb,db,size=20).round()"
   ]
  },
  {
   "cell_type": "code",
   "execution_count": 332,
   "metadata": {
    "collapsed": false
   },
   "outputs": [
    {
     "data": {
      "text/plain": [
       "(1.9123725393649005, 3.8469704448139956)"
      ]
     },
     "execution_count": 332,
     "metadata": {},
     "output_type": "execute_result"
    }
   ],
   "source": [
    "# Gumbel\n",
    "mu, beta = stats.gumbel_r.fit(rushing_yards)\n",
    "mu, beta"
   ]
  },
  {
   "cell_type": "code",
   "execution_count": 333,
   "metadata": {
    "collapsed": false
   },
   "outputs": [
    {
     "data": {
      "text/plain": [
       "[<matplotlib.lines.Line2D at 0x1344db4e0>]"
      ]
     },
     "execution_count": 333,
     "metadata": {},
     "output_type": "execute_result"
    },
    {
     "data": {
      "image/png": "[encoded data removed]",
      "text/plain": [
       "<matplotlib.figure.Figure at 0x1344dbe10>"
      ]
     },
     "metadata": {},
     "output_type": "display_data"
    }
   ],
   "source": [
    "pdf_gumbel_r = stats.gumbel_r.pdf(lnspc, mu, beta)\n",
    "plt.hist(rushing_yards, color='w', bins=40, normed=True)\n",
    "plt.plot(lnspc, pdf_gumbel_r, label=\"Gumbel Right\")"
   ]
  },
  {
   "cell_type": "code",
   "execution_count": 335,
   "metadata": {
    "collapsed": false
   },
   "outputs": [
    {
     "data": {
      "text/plain": [
       "array([  2.,   1.,   8.,   2.,   4.,   5.,   7.,   9.,   8.,   1.,   2.,\n",
       "        12.,   7.,   2.,   2.,  -1.,   5.,   2.,   8.,  16.])"
      ]
     },
     "execution_count": 335,
     "metadata": {},
     "output_type": "execute_result"
    }
   ],
   "source": [
    "# TODO save these variables somewhere\n",
    "stats.gumbel_r.rvs(mu, beta ,size=20).round()"
   ]
  },
  {
   "cell_type": "code",
   "execution_count": 336,
   "metadata": {
    "collapsed": false
   },
   "outputs": [
    {
     "data": {
      "text/plain": [
       "count     46434\n",
       "unique       17\n",
       "top        PASS\n",
       "freq      19667\n",
       "Name: PlayType, dtype: object"
      ]
     },
     "execution_count": 336,
     "metadata": {},
     "output_type": "execute_result"
    }
   ],
   "source": [
    "# So now we know about running plays, but we don't know what percentage of the offense they make up. Stepping back\n",
    "sample_data['PlayType'].describe()"
   ]
  },
  {
   "cell_type": "code",
   "execution_count": 344,
   "metadata": {
    "collapsed": false
   },
   "outputs": [
    {
     "data": {
      "text/plain": [
       "PASS        0.558976\n",
       "RUSH        0.379519\n",
       "SACK        0.038995\n",
       "SCRAMBLE    0.022510\n",
       "Name: PlayType, dtype: float64"
      ]
     },
     "execution_count": 344,
     "metadata": {},
     "output_type": "execute_result"
    }
   ],
   "source": [
    "# Offensive play breakdown - TODO write these to a file as well\n",
    "plays_from_scrimmage['PlayType'].value_counts(normalize=True)"
   ]
  }
 ],
 "metadata": {
  "anaconda-cloud": {},
  "celltoolbar": "Raw Cell Format",
  "kernelspec": {
   "display_name": "Python [conda root]",
   "language": "python",
   "name": "conda-root-py"
  },
  "language_info": {
   "codemirror_mode": {
    "name": "ipython",
    "version": 3
   },
   "file_extension": ".py",
   "mimetype": "text/x-python",
   "name": "python",
   "nbconvert_exporter": "python",
   "pygments_lexer": "ipython3",
   "version": "3.5.2"
  }
 },
 "nbformat": 4,
 "nbformat_minor": 1
}
